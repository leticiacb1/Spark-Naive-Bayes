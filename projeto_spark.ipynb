{
 "cells": [
  {
   "cell_type": "markdown",
   "id": "2b48e863-8e93-45c0-938d-c9a4566b69b8",
   "metadata": {},
   "source": [
    "# Projeto Spark\n",
    "\n",
    "Entrega: 31 de maio de 2023"
   ]
  },
  {
   "cell_type": "markdown",
   "id": "4813f033-927b-46ca-8977-30e8b0de48c2",
   "metadata": {
    "tags": []
   },
   "source": [
    "## Introdução\n",
    "\n",
    "Neste projeto vamos construir um classificador Naive-Bayes para determinar o sentimento de um comentário."
   ]
  },
  {
   "cell_type": "markdown",
   "id": "02f3a371",
   "metadata": {},
   "source": [
    "## Grupos\n",
    "\n",
    "O projeto pode ser individual ou em duplas. Criem os grupos em https://classroom.github.com/a/EdbpYF9x"
   ]
  },
  {
   "cell_type": "markdown",
   "id": "8f7c97a3",
   "metadata": {},
   "source": [
    "## Instalando o ambiente"
   ]
  },
  {
   "cell_type": "markdown",
   "id": "3c9b3746",
   "metadata": {},
   "source": [
    "O jeito mais simples de começar a trabalhar com Spark é instalar um container com tudo pronto! No site https://hub.docker.com/r/jupyter/pyspark-notebook vemos uma imagem Docker que já vem com `pyspark` e `jupyter lab`. Instale a imagem com o comando:\n",
    "\n",
    "```bash\n",
    "docker pull jupyter/pyspark-notebook\n",
    "```\n",
    "\n",
    "Vamos iniciar o ambiente de trabalho com o comando `docker run`. Para isso precisamos tomar alguns cuidados:\n",
    "\n",
    "1) Temos que mapear nosso diretorio local de trabalho para um diretório interno do container, de modo que alterações feitas dentro do container (nesta pasta escolhida) sejam gravadas no nosso diretorio local. No container temos um usuário padrão com *username* `jovyan`. No *homedir* desse usuario temos uma pasta vazia `work`, que vai servir como local de mapeamento do nosso diretorio local de trabalho. Podemos então fazer esse mapeamendo com a opção `-v` do comando `docker run` da seguinte forma:\n",
    "\n",
    "```bash\n",
    "-v <diretorio>:/home/jovyan/work\n",
    "```\n",
    "\n",
    "onde `<diretorio>` representa seu diretorio local de trabalho.\n",
    "\n",
    "2) Para acessar o `jupyter notebook` e o *dashboard* do Spark a partir do nosso *browser* favorito temos que abrir algumas portas do container com a opção `-p`. As portas são `8888` (para o próprio `jupyter notebook`) e `4040` (para o *dashboard* do Spark). Ou seja, adicionaremos às opções do `docker run`o seguinte:\n",
    "\n",
    "```bash\n",
    "-p 8888:8888 -p 4040:4040\n",
    "```\n",
    "\n",
    "Desta forma, ao acessar `localhost:8888` na nossa máquina, estaremos acessando o servidor Jupyter na porta 8888 interna do container.\n",
    "\n",
    "3) Vamos iniciar o container no modo interativo, e vamos especificar que o container deve ser encerrado ao fechar o servidor Jupyter. Faremos isso com as opções `-it` e `-rm`\n",
    "\n",
    "Portanto, o comando completo que eu uso na minha máquina Linux para iniciar o container é:\n",
    "\n",
    "```bash\n",
    "docker run \\\n",
    "    -it \\\n",
    "    --rm \\\n",
    "    -p 8888:8888 \\\n",
    "    -p 4040:4040 \\\n",
    "    -v \"`pwd`\":/home/jovyan/work \\\n",
    "    jupyter/pyspark-notebook\n",
    "```\n",
    "\n",
    "Para facilitar a vida eu coloco esse comando em um arquivo `inicia.sh`. Engenheiros, façam do jeito que preferirem!\n",
    "\n",
    "Agora abra esse notebook lá no container!\n"
   ]
  },
  {
   "cell_type": "markdown",
   "id": "3090720d-0dec-48ff-a8da-921b62764c43",
   "metadata": {},
   "source": [
    "## Iniciando o Spark"
   ]
  },
  {
   "cell_type": "markdown",
   "id": "603fa191-ca53-4035-9147-86f3cf27831a",
   "metadata": {},
   "source": [
    "Vamos iniciar o ambiente Spark. Para isso vamos:\n",
    "\n",
    "1) Criar um objeto de configuração do ambiente Spark. Nossa configuração será simples: vamos especificar que o nome da nossa aplicação Spark é \"Minha aplicação\", e que o *master node* é a máquina local, usando todos os *cores* disponíveis. Aplicações reais de Spark são configuradas de modo ligeiramente diferente: ao especificar o *master node* passamos uma URL real, com o endereço do nó gerente do *cluster* Spark.\n",
    "\n",
    "2) Vamos criar um objeto do tipo `SparkContext` com essa configuração"
   ]
  },
  {
   "cell_type": "code",
   "execution_count": 1,
   "id": "f6d1b7f8-ddc9-43b0-adbd-2b6e5aad182c",
   "metadata": {},
   "outputs": [],
   "source": [
    "import pyspark\n",
    "\n",
    "conf = pyspark.SparkConf()\n",
    "conf.setAppName('Minha aplicação')\n",
    "conf.setMaster('local[*]')\n",
    "\n",
    "sc = pyspark.SparkContext(conf=conf)"
   ]
  },
  {
   "cell_type": "markdown",
   "id": "0cfcd1c3-3c9b-47c6-bf36-06c60b796991",
   "metadata": {},
   "source": [
    "O `SparkContext` é a nossa porta de entrada para o cluster Spark, ele será a raiz de todas as nossas operações com o Spark."
   ]
  },
  {
   "cell_type": "code",
   "execution_count": 2,
   "id": "5214f8ff-9df1-4817-9e08-c1755470f3b6",
   "metadata": {},
   "outputs": [
    {
     "data": {
      "text/html": [
       "\n",
       "        <div>\n",
       "            <p><b>SparkContext</b></p>\n",
       "\n",
       "            <p><a href=\"http://2a63cd3fa71c:4041\">Spark UI</a></p>\n",
       "\n",
       "            <dl>\n",
       "              <dt>Version</dt>\n",
       "                <dd><code>v3.4.0</code></dd>\n",
       "              <dt>Master</dt>\n",
       "                <dd><code>local[*]</code></dd>\n",
       "              <dt>AppName</dt>\n",
       "                <dd><code>Minha aplicação</code></dd>\n",
       "            </dl>\n",
       "        </div>\n",
       "        "
      ],
      "text/plain": [
       "<SparkContext master=local[*] appName=Minha aplicação>"
      ]
     },
     "execution_count": 2,
     "metadata": {},
     "output_type": "execute_result"
    }
   ],
   "source": [
    "sc"
   ]
  },
  {
   "cell_type": "markdown",
   "id": "60acb677-070b-4191-bbad-ee16000ff380",
   "metadata": {},
   "source": [
    "O link acima provavelmente não funcionará porque ele se refere à porta 4040 interna do container (portanto a URL está com endereço interno). Porém fizemos o mapeamento da porta 4040 interna para a porta 4040 externa, logo você pode acessar o *dashboard* do Spark no endereço http://localhost:4040\n",
    "\n",
    "<center><img src=\"./spark_dashboard.png\" width=800/></center>"
   ]
  },
  {
   "cell_type": "markdown",
   "id": "c44bd07e-7f64-4c0d-b522-faf5313b53cc",
   "metadata": {},
   "source": [
    "## Lendo os dados"
   ]
  },
  {
   "cell_type": "markdown",
   "id": "b0c2f3af",
   "metadata": {},
   "source": [
    "Vamos começar lendo o arquivo de reviews e gravando o resultado em formato pickle, mais amigável."
   ]
  },
  {
   "cell_type": "raw",
   "id": "66f5bd0e-db0b-41c8-9e98-805076c2d6a5",
   "metadata": {},
   "source": [
    "def parse_line(line):\n",
    "    parts = line[1:-1].split('\",\"')\n",
    "    sentiment = int(parts[0])\n",
    "    title = parts[1].replace('\"\"', '\"')\n",
    "    body = parts[2].replace('\"\"', '\"')\n",
    "    return (sentiment, title, body)\n",
    "\n",
    "rdd = sc.textFile('train.csv').map(parse_line)"
   ]
  },
  {
   "cell_type": "raw",
   "id": "32fe0779-8f97-4065-a44e-f6bb7a94573a",
   "metadata": {},
   "source": [
    "rdd.count()"
   ]
  },
  {
   "cell_type": "raw",
   "id": "b55f0c48-8a2e-4b37-99b7-26866cbeffd9",
   "metadata": {},
   "source": [
    "rdd.take(1)"
   ]
  },
  {
   "cell_type": "markdown",
   "id": "339c7933-ad3f-4a17-bf89-8e1360ddc4ab",
   "metadata": {},
   "source": [
    "Agora vamos gravar no formato pickle, para facilitar os trabalhos futuros. Após gravar o arquivo, não mais rode as células desta primeira etapa!"
   ]
  },
  {
   "cell_type": "raw",
   "id": "a912ccf8-3ebe-4d50-b03f-a3205d02c704",
   "metadata": {},
   "source": [
    "rdd.saveAsPickleFile('reviews.pickle')"
   ]
  },
  {
   "cell_type": "markdown",
   "id": "6e4f5b5b-f0ac-4385-866b-8d8d8ecbdf9f",
   "metadata": {},
   "source": [
    "## Um classificador Naive-Bayes"
   ]
  },
  {
   "cell_type": "markdown",
   "id": "5a9ef2e6-ac48-46ad-b538-920c17aff6dc",
   "metadata": {},
   "source": [
    "Vamos ler o arquivo pickle gravado anteriormente:"
   ]
  },
  {
   "cell_type": "code",
   "execution_count": 3,
   "id": "9107ce80-0447-41d7-8f83-d96f0680d8fd",
   "metadata": {},
   "outputs": [],
   "source": [
    "rdd = sc.pickleFile('reviews.pickle')"
   ]
  },
  {
   "cell_type": "code",
   "execution_count": 4,
   "id": "ae84b476-b262-496f-93b0-19386fa9f29c",
   "metadata": {},
   "outputs": [
    {
     "data": {
      "text/plain": [
       "3600000"
      ]
     },
     "execution_count": 4,
     "metadata": {},
     "output_type": "execute_result"
    }
   ],
   "source": [
    "rdd.count()"
   ]
  },
  {
   "cell_type": "code",
   "execution_count": 5,
   "id": "607f7afa-43e7-4b82-bffc-7c1cca0536ae",
   "metadata": {},
   "outputs": [
    {
     "data": {
      "text/plain": [
       "[(1,\n",
       "  'half a book',\n",
       "  \"I recently purchased this book along with the set of cassettes. It turns out, however, that the book is only part II of the complete course. This isn't mentioned anywhere in the course description. The cassettes, however, cover the complete course, so that only the last three cassettes correspond to part II. In order to make use of the course and all the cassettes, you'd have to purchase the teacher's manual, which isn't available on amazon.com. Otherwise, the course looks to quite good.\")]"
      ]
     },
     "execution_count": 5,
     "metadata": {},
     "output_type": "execute_result"
    }
   ],
   "source": [
    "rdd.take(1)"
   ]
  },
  {
   "cell_type": "markdown",
   "id": "fc9751aa-df6d-4e3e-a8c5-039133cefe28",
   "metadata": {},
   "source": [
    "Agora, complete as tarefas em sequencia para construir o classificador Naive-Bayes:"
   ]
  },
  {
   "cell_type": "markdown",
   "id": "69bac409-7181-49c4-b555-73d3e9ff71f2",
   "metadata": {},
   "source": [
    "### Fase 1"
   ]
  },
  {
   "cell_type": "markdown",
   "id": "ef78654e-d064-41b4-9be8-306a57c425f4",
   "metadata": {},
   "source": [
    "#### Tarefa"
   ]
  },
  {
   "cell_type": "markdown",
   "id": "e03d82f8-520e-49de-8397-5277d5bd072e",
   "metadata": {},
   "source": [
    "Construa uma função que recebe um RDD no formato do RDD original e retorna um RDD no qual cada item é um par (palavra, contagem)."
   ]
  },
  {
   "cell_type": "code",
   "execution_count": 6,
   "id": "fe85627d-62fc-4190-9ec5-b1f3c9b955ff",
   "metadata": {},
   "outputs": [],
   "source": [
    "import re\n",
    "import string"
   ]
  },
  {
   "cell_type": "code",
   "execution_count": 7,
   "id": "618724dd-8544-4a97-94ea-81395ba81c4e",
   "metadata": {},
   "outputs": [],
   "source": [
    "def limpa_pontuacao(sentence):\n",
    "    punctuation = f'[{string.punctuation}]'  # Regex pontuação\n",
    "    pattern = re.compile(punctuation)        # Padrões\n",
    "    text_subbed = re.sub(pattern, '', sentence)  # Substitui pontuacao por vazio\n",
    "    return text_subbed\n",
    "\n",
    "def pega_palavra(line):\n",
    "    titulo   = line[1]\n",
    "    corpo    = line[2]\n",
    "    sentence = titulo + \" \" + corpo\n",
    "\n",
    "    # Retira pontuações\n",
    "    sentence = limpa_pontuacao(sentence)\n",
    "    palavras = sentence.lower().split(\" \")\n",
    "\n",
    "    return palavras"
   ]
  },
  {
   "cell_type": "code",
   "execution_count": 22,
   "id": "1cf8a0f4-ca44-4f98-a751-e6f966631c70",
   "metadata": {},
   "outputs": [
    {
     "data": {
      "text/plain": [
       "['half', 'a']"
      ]
     },
     "execution_count": 22,
     "metadata": {},
     "output_type": "execute_result"
    }
   ],
   "source": [
    "rdd \\\n",
    "    .filter(lambda x: x[2]) \\\n",
    "    .flatMap(pega_palavra) \\\n",
    "    .take(2)"
   ]
  },
  {
   "cell_type": "code",
   "execution_count": 27,
   "id": "6a93a10e-9f3d-4edc-be8c-4e683ae8cf7b",
   "metadata": {},
   "outputs": [],
   "source": [
    "# verifica se titulo + body != vazio\n",
    "# Retorna palavras de forma individual\n",
    "def return_palavra_contagem(rdd):\n",
    "    return rdd \\\n",
    "        .filter(lambda x: x[2]) \\\n",
    "        .flatMap(pega_palavra) \\\n",
    "        .map(lambda palavra : (palavra, 1)) \\\n",
    "        .reduceByKey(lambda x, y: x + y)"
   ]
  },
  {
   "cell_type": "code",
   "execution_count": 29,
   "id": "9ebceadc-f679-45d6-acf3-299d2ef9a5e8",
   "metadata": {},
   "outputs": [
    {
     "data": {
      "text/plain": [
       "[('book', 1926144)]"
      ]
     },
     "execution_count": 29,
     "metadata": {},
     "output_type": "execute_result"
    }
   ],
   "source": [
    "rdd_palavras = return_palavra_contagem(rdd)\n",
    "rdd_palavras.take(1)"
   ]
  },
  {
   "cell_type": "markdown",
   "id": "49d888c4-bef5-4d1c-a901-e8dc5029f1b0",
   "metadata": {},
   "source": [
    "#### Tarefa"
   ]
  },
  {
   "cell_type": "markdown",
   "id": "29ec5621-6c06-4dce-b351-e887d6aa8be4",
   "metadata": {},
   "source": [
    "Construa uma função que recebe o RDD (palavra, contagem) construido anteriormente e retorna um RDD no qual cada item é um par (palavra, $\\log_{10}\\left(c \\, / \\, T\\right)$), onde $c$ é a contagem daquela palavra e $T$ é a soma das contagens de palavra."
   ]
  },
  {
   "cell_type": "code",
   "execution_count": 45,
   "id": "1d3a167d-ca1d-48ec-8e15-bd7e0abd8ab6",
   "metadata": {},
   "outputs": [],
   "source": [
    "import numpy as np"
   ]
  },
  {
   "cell_type": "code",
   "execution_count": 46,
   "id": "dd734204-023e-4491-8937-2da8be7e4bc1",
   "metadata": {},
   "outputs": [],
   "source": [
    "def return_palavra_log(rdd):\n",
    "    T = rdd\\\n",
    "    .map(lambda tupla : tupla[1])\\\n",
    "    .sum()\n",
    "    \n",
    "    return rdd \\\n",
    "        .map(lambda tupla : (tupla[0] , np.log(tupla[1]/T)))"
   ]
  },
  {
   "cell_type": "code",
   "execution_count": 47,
   "id": "9f4cc953-1baa-40f5-89f6-84840f099cb6",
   "metadata": {},
   "outputs": [
    {
     "data": {
      "text/plain": [
       "[('book', -4.988107155519375)]"
      ]
     },
     "execution_count": 47,
     "metadata": {},
     "output_type": "execute_result"
    }
   ],
   "source": [
    "rdd_palavra_log = return_palavra_log(rdd_palavras)\n",
    "rdd_palavra_log.take(1)"
   ]
  },
  {
   "cell_type": "markdown",
   "id": "09116064-380c-43ed-91a3-736c80b47fb9",
   "metadata": {},
   "source": [
    "#### Tarefa"
   ]
  },
  {
   "cell_type": "markdown",
   "id": "47df9afe-f429-4951-954d-8ac0361efee6",
   "metadata": {},
   "source": [
    "Separe o RDD original em dois RDDs: o dos reviews positivos e o dos negativos. Em seguida, use as funções anteriores para construir RDDs que contem os pares (palavra, $\\log_{10}\\left(c \\, / \\, T\\right)$)"
   ]
  },
  {
   "cell_type": "code",
   "execution_count": 48,
   "id": "987554e0-0a16-4827-9cc3-7c21063b1f8e",
   "metadata": {},
   "outputs": [],
   "source": [
    "rdd_positivo = rdd.filter(lambda x: x[0] == 2)\n",
    "rdd_negativo = rdd.filter(lambda x: x[0] == 1)"
   ]
  },
  {
   "cell_type": "code",
   "execution_count": 49,
   "id": "4feb5ce7-af59-4283-b961-a3d626c310c5",
   "metadata": {},
   "outputs": [],
   "source": [
    "rdd_positivo_contagem = return_palavra_contagem(rdd_positivo)\n",
    "rdd_negativo_contagem = return_palavra_contagem(rdd_negativo)"
   ]
  },
  {
   "cell_type": "code",
   "execution_count": 50,
   "id": "881df5c7-6fbb-4021-a2e4-4eba426ceea2",
   "metadata": {},
   "outputs": [],
   "source": [
    "rdd_palavra_log_positivo = return_palavra_log(rdd_positivo_contagem)\n",
    "rdd_palavra_log_negativo = return_palavra_log(rdd_negativo_contagem)"
   ]
  },
  {
   "cell_type": "code",
   "execution_count": 51,
   "id": "d8e2c9fa-8a08-4e06-b9bf-a780e39891fe",
   "metadata": {},
   "outputs": [
    {
     "data": {
      "text/plain": [
       "[('book', -4.911103411248069)]"
      ]
     },
     "execution_count": 51,
     "metadata": {},
     "output_type": "execute_result"
    }
   ],
   "source": [
    "rdd_palavra_log_positivo.take(1)"
   ]
  },
  {
   "cell_type": "code",
   "execution_count": 52,
   "id": "2bb6ed77-8e8b-4348-aebe-dcb8e79d56f5",
   "metadata": {},
   "outputs": [
    {
     "data": {
      "text/plain": [
       "[('book', -5.065096910869075)]"
      ]
     },
     "execution_count": 52,
     "metadata": {},
     "output_type": "execute_result"
    }
   ],
   "source": [
    "rdd_palavra_log_negativo.take(1)"
   ]
  },
  {
   "cell_type": "markdown",
   "id": "dbfe5957-73d2-45ad-9ad2-6e029668bacf",
   "metadata": {},
   "source": [
    "### Tarefa"
   ]
  },
  {
   "cell_type": "markdown",
   "id": "904cb0c8-2236-47aa-8ab0-3ad925bb24ed",
   "metadata": {},
   "source": [
    "Use o `.fullOuterJoin()` dos RDDs para construir um RDD unificado, no qual cada item é da forma (palavra, log_prob_positivo, log_prob_negativo). \"Baixe\" esse resultado final usando `.collect()`."
   ]
  },
  {
   "cell_type": "code",
   "execution_count": 53,
   "id": "bdfcc7a4-58d6-47cb-ab2b-d3cad14c4a48",
   "metadata": {},
   "outputs": [],
   "source": [
    "rdd_unificado = rdd_palavra_log_positivo\\\n",
    "                .fullOuterJoin(rdd_palavra_log_negativo)\\\n",
    "                .map(lambda tupla : (tupla[0] , tupla[1][0], tupla[1][1]))"
   ]
  },
  {
   "cell_type": "code",
   "execution_count": 55,
   "id": "d463946e-0589-407d-ade9-efe190ee6a57",
   "metadata": {
    "scrolled": true
   },
   "outputs": [],
   "source": [
    "palavras_e_probabilidades = rdd_unificado.collect()"
   ]
  },
  {
   "cell_type": "markdown",
   "id": "79e90473-6725-4f30-9130-f5a0f370d968",
   "metadata": {},
   "source": [
    "#### Tarefa"
   ]
  },
  {
   "cell_type": "markdown",
   "id": "423d2117-397c-4a66-b63b-ca00036c1e2d",
   "metadata": {},
   "source": [
    "Para uma dada string, determine se ela é um review positivo ou negativo usando os RDDs acima. Lembre-se de como funciona o classificador Naive-Bayes: http://stanford.edu/~jurafsky/slp3/slides/7_NB.pdf, consulte tambem suas notas de aula de Ciência dos Dados!"
   ]
  },
  {
   "cell_type": "code",
   "execution_count": 56,
   "id": "7f616126-7df4-46b6-8733-8943f6fe25c8",
   "metadata": {},
   "outputs": [],
   "source": [
    "dic_palavra_prob = {}\n",
    "\n",
    "for palavra , p_positiva , p_negativa in palavras_e_probabilidades:\n",
    "    dic_palavra_prob[palavra] = (p_positiva , p_negativa)"
   ]
  },
  {
   "cell_type": "code",
   "execution_count": 57,
   "id": "f2f68949-61c8-46b4-a39e-bcfb3872c4fd",
   "metadata": {},
   "outputs": [],
   "source": [
    "# P(palavra | feedback) * P(feedback) = P(feedback | palavra) * P(palavra)\n",
    "# P(feedback | palavra) = P(palavra | feedback) * P(feedback) / P(palavra)\n",
    "\n",
    "def classifica_texto(texto):\n",
    "    texto = limpa_pontuacao(texto).lower()\n",
    "\n",
    "    count_prob_positiva = 0   # Soma probabilidades positivas das palavras na frase\n",
    "    count_prob_negativa = 0   # Soma probabilidades negativas das palavras na frase\n",
    "\n",
    "    for palavra in texto.split(\" \"):\n",
    "        prob = dic_palavra_prob.get(palavra)\n",
    "        if prob is not None:\n",
    "            count_prob_positiva += prob[0] if prob[0] is not None else 0\n",
    "            count_prob_negativa += prob[1] if prob[1] is not None else 0\n",
    "\n",
    "    return 2 if count_prob_positiva > count_prob_negativa else 1"
   ]
  },
  {
   "cell_type": "code",
   "execution_count": 58,
   "id": "c431eab1-f80f-468f-afbd-b13ec04b66cc",
   "metadata": {},
   "outputs": [
    {
     "data": {
      "text/plain": [
       "1"
      ]
     },
     "execution_count": 58,
     "metadata": {},
     "output_type": "execute_result"
    }
   ],
   "source": [
    "get_sentiment(\"What a bad day!\")"
   ]
  },
  {
   "cell_type": "code",
   "execution_count": 59,
   "id": "bbcd0868-40d2-4be9-9286-8d2a6c5b7882",
   "metadata": {},
   "outputs": [
    {
     "data": {
      "text/plain": [
       "2"
      ]
     },
     "execution_count": 59,
     "metadata": {},
     "output_type": "execute_result"
    }
   ],
   "source": [
    "classifica_texto(\"What a good day!\")"
   ]
  },
  {
   "cell_type": "markdown",
   "id": "ab052fff-3752-4476-88f5-bc6b654c8e02",
   "metadata": {},
   "source": [
    "### Fase 2"
   ]
  },
  {
   "cell_type": "markdown",
   "id": "7071fa13-c31b-434e-969f-538c0070fb34",
   "metadata": {},
   "source": [
    "Agora que temos um classificador Naive-Bayes, vamos explorá-lo um pouco:"
   ]
  },
  {
   "cell_type": "markdown",
   "id": "57ed5be5-9e8d-4a7f-98bc-592cc7ecee74",
   "metadata": {},
   "source": [
    "### Tarefa"
   ]
  },
  {
   "cell_type": "markdown",
   "id": "fcb9bd58-1023-4cb7-861e-6cdbe5384356",
   "metadata": {},
   "source": [
    "Quais são as 100 palavras que mais indicam negatividade, ou seja, onde a diferença entre a probabilidade da palavra no conjunto dos comentários negativos e positivos é máxima? E quais as 100 palavras de maior positividade? Mostre os resultados na forma de *word clouds*."
   ]
  },
  {
   "cell_type": "code",
   "execution_count": null,
   "id": "c147d964-8720-43fa-a8e3-0610394a752f",
   "metadata": {},
   "outputs": [],
   "source": []
  },
  {
   "cell_type": "markdown",
   "id": "8854a0bf-1941-47eb-a1f5-6b3f4d34f857",
   "metadata": {},
   "source": [
    "### Tarefa desafio!"
   ]
  },
  {
   "cell_type": "markdown",
   "id": "94a98d11-16d6-4d97-b1ab-14db145e826e",
   "metadata": {},
   "source": [
    "Qual o desempenho do classificador (acurácia)? Para medir sua acurácia:\n",
    "\n",
    "- Separe os reviews em dois conjuntos: treinamente e teste\n",
    "- Repita o \"treinamento\" do classificador com o conjunto de treinamento\n",
    "- Para cada review do conjunto de teste, determine se é positiva ou negativa de acordo com o classificador\n",
    "- Determine a acurácia\n",
    "\n",
    "Esta não é uma tarefa trivial. Não basta fazer um `for` para determinar a classe de cada review de teste: isso demoraria uma eternidade. Você tem que usar variáveis \"broadcast\" do Spark para enviar uma cópia da tabela de frequencias para cada *core* do executor."
   ]
  },
  {
   "cell_type": "markdown",
   "id": "d12a2c0d-7bfc-40bf-b717-1414c1df05ec",
   "metadata": {},
   "source": [
    "### Tarefa desafio!"
   ]
  },
  {
   "cell_type": "markdown",
   "id": "6af21c4e-5a5b-4127-80a0-d79e95f03b8f",
   "metadata": {},
   "source": [
    "Implemente Laplace smoothing"
   ]
  },
  {
   "cell_type": "code",
   "execution_count": null,
   "id": "7f61c989-ec58-4ebe-be19-595ad9e4887c",
   "metadata": {},
   "outputs": [],
   "source": []
  },
  {
   "cell_type": "markdown",
   "id": "08805b7b-f8b5-4b85-ab53-3c0813f79c44",
   "metadata": {},
   "source": [
    "## Rubrica de avaliação"
   ]
  },
  {
   "cell_type": "markdown",
   "id": "74059567-1f3d-414a-bbc8-f5a7ea144b76",
   "metadata": {},
   "source": [
    "- I: groselha, falha crítica, ou não entregou nada\n",
    "- D: Fez uma tentativa honesta de fazer todos os itens da fase 1, mas tem erros\n",
    "- C: Fase 1 completa\n",
    "- B: Fase 2, faltando apenas um desafio\n",
    "- A: Fase 2 completa"
   ]
  },
  {
   "cell_type": "code",
   "execution_count": null,
   "id": "f33106eb-7a38-4d89-8a23-c14fce370bf1",
   "metadata": {},
   "outputs": [],
   "source": []
  }
 ],
 "metadata": {
  "kernelspec": {
   "display_name": "Python 3 (ipykernel)",
   "language": "python",
   "name": "python3"
  },
  "language_info": {
   "codemirror_mode": {
    "name": "ipython",
    "version": 3
   },
   "file_extension": ".py",
   "mimetype": "text/x-python",
   "name": "python",
   "nbconvert_exporter": "python",
   "pygments_lexer": "ipython3",
   "version": "3.10.11"
  },
  "vscode": {
   "interpreter": {
    "hash": "e7370f93d1d0cde622a1f8e1c04877d8463912d04d973331ad4851f04de6915a"
   }
  }
 },
 "nbformat": 4,
 "nbformat_minor": 5
}
